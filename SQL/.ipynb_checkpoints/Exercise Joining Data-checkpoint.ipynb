{
 "cells": [
  {
   "cell_type": "markdown",
   "metadata": {},
   "source": [
    "reference: https://www.kaggle.com/dansbecker/exercise-joining-data"
   ]
  },
  {
   "cell_type": "markdown",
   "metadata": {},
   "source": [
    "### Get Started\n",
    "\n",
    "After forking this notebook, run the code in the following cell:"
   ]
  },
  {
   "cell_type": "code",
   "execution_count": null,
   "metadata": {},
   "outputs": [],
   "source": [
    "# import package with helper functions \n",
    "import bq_helper\n",
    "\n",
    "# create a helper object for this dataset\n",
    "github = bq_helper.BigQueryHelper(active_project=\"bigquery-public-data\",\n",
    "                                              dataset_name=\"github_repos\")"
   ]
  },
  {
   "cell_type": "markdown",
   "metadata": {},
   "source": [
    "Then write the code to answer the question below:\n",
    "\n",
    "Question\n",
    "\n",
    "1 How many commits (recorded in the \"sample_commits\" table) have been made in repos written in the Python programming language? (I'm looking for the number of commits per repo for all the repos written in Python.\n",
    "\n",
    "    You'll want to JOIN the sample_files and sample_commits questions to answer this.\n",
    "    Hint: You can figure out which files are written in Python by filtering results from the \"sample_files\" table using WHERE path LIKE '%.py'. This will return results where the \"path\" column ends in the text \".py\", which is one way to identify which files have Python code."
   ]
  },
  {
   "cell_type": "code",
   "execution_count": null,
   "metadata": {},
   "outputs": [],
   "source": [
    "# error popped up again not sure why: Query cancelled; estimated size of 2.91475035995245 exceeds limit of 1 GB\n",
    "# Your code here\n",
    "\n",
    "query = '''\n",
    "SELECT  COUNT(sample_commits.commit) as num_commits\n",
    "FROM `bigquery-public-data.github_repos.sample_files` as sample_files \n",
    "INNER JOIN `bigquery-public-data.github_repos.sample_commits` as sample_commits\n",
    "ON sample_files.id = sample_commits.tree\n",
    "and sample_files.symlink_target LIKE '%.py'\n",
    "'''\n",
    "\n",
    "num_commits = github.query_to_pandas_safe(query)"
   ]
  }
 ],
 "metadata": {
  "kernelspec": {
   "display_name": "Python 3",
   "language": "python",
   "name": "python3"
  },
  "language_info": {
   "codemirror_mode": {
    "name": "ipython",
    "version": 3
   },
   "file_extension": ".py",
   "mimetype": "text/x-python",
   "name": "python",
   "nbconvert_exporter": "python",
   "pygments_lexer": "ipython3",
   "version": "3.5.3"
  }
 },
 "nbformat": 4,
 "nbformat_minor": 2
}
