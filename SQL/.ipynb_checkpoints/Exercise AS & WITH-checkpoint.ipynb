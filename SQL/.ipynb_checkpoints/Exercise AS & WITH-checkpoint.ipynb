{
 "cells": [
  {
   "cell_type": "markdown",
   "metadata": {},
   "source": [
    "reference: https://www.kaggle.com/dansbecker/exercise-as-with"
   ]
  },
  {
   "cell_type": "markdown",
   "metadata": {},
   "source": [
    "### Get Started\n",
    "\n",
    "After forking this notebook, run the code in the following cell:"
   ]
  },
  {
   "cell_type": "code",
   "execution_count": null,
   "metadata": {},
   "outputs": [],
   "source": [
    "# import package with helper functions \n",
    "import bq_helper\n",
    "\n",
    "# create a helper object for this dataset\n",
    "bitcoin_blockchain = bq_helper.BigQueryHelper(active_project=\"bigquery-public-data\",\n",
    "                                              dataset_name=\"bitcoin_blockchain\")"
   ]
  },
  {
   "cell_type": "markdown",
   "metadata": {},
   "source": [
    "Then write the code to answer the questions below.\n",
    "Note\n",
    "\n",
    "This dataset is bigger than the ones we've used previously, so your queries will be more than 1 Gigabyte. You can still run them by setting the \"max_gb_scanned\" argument in the query_to_pandas_safe() function to be large enough to run your query, or by using the query_to_pandas() function instead.\n",
    "\n",
    "Questions\n",
    "\n",
    "1 How many Bitcoin transactions were made each day in 2017?\n",
    "\n",
    "    You can use the \"timestamp\" column from the \"transactions\" table to answer this question. You can go back to the order-by tutorial for more information on timestamps.\n",
    "\n"
   ]
  },
  {
   "cell_type": "code",
   "execution_count": null,
   "metadata": {},
   "outputs": [],
   "source": [
    "#not sure why the query was cancelled, error message: Query cancelled; estimated size of 21.84991781041026 exceeds limit of 21 GB\n",
    "# Your Code Here\n",
    "query = \"\"\" WITH time AS \n",
    "            (\n",
    "                SELECT TIMESTAMP_MILLIS(timestamp) AS trans_time,\n",
    "                    transaction_id\n",
    "                FROM `bigquery-public-data.bitcoin_blockchain.transactions`\n",
    "            )\n",
    "            SELECT COUNT(transaction_id) AS transactions,\n",
    "                EXTRACT(DAY FROM trans_time) AS day\n",
    "            FROM time\n",
    "            WHERE  EXTRACT(YEAR FROM trans_time) = 2017\n",
    "            GROUP BY day\n",
    "            ORDER BY day\n",
    "        \"\"\"\n",
    "\n",
    "transactions_per_day = bitcoin_blockchain.query_to_pandas_safe(query, max_gb_scanned=21)"
   ]
  },
  {
   "cell_type": "markdown",
   "metadata": {},
   "source": [
    "2 How many transactions are associated with each merkle root?\n",
    "\n",
    "    You can use the \"merkle_root\" and \"transaction_id\" columns in the \"transactions\" table to answer this question."
   ]
  },
  {
   "cell_type": "code",
   "execution_count": null,
   "metadata": {},
   "outputs": [],
   "source": [
    "# again, query cancelled. error message: Query cancelled; estimated size of 38.97579964622855 exceeds limit of 21 GB\n",
    "# Your Code Here\n",
    "query = \"\"\" WITH smaller_table AS \n",
    "            (\n",
    "                SELECT transaction_id,\n",
    "                    merkle_root\n",
    "                FROM `bigquery-public-data.bitcoin_blockchain.transactions`\n",
    "            )\n",
    "            SELECT COUNT(transaction_id) AS transactions,\n",
    "                merkle_root\n",
    "            FROM smaller_table\n",
    "            GROUP BY merkle_root\n",
    "        \"\"\"\n",
    "\n",
    "transactions_per_merkle_root = bitcoin_blockchain.query_to_pandas_safe(query, max_gb_scanned=21)"
   ]
  },
  {
   "cell_type": "code",
   "execution_count": null,
   "metadata": {},
   "outputs": [],
   "source": []
  }
 ],
 "metadata": {
  "kernelspec": {
   "display_name": "Python 3",
   "language": "python",
   "name": "python3"
  },
  "language_info": {
   "codemirror_mode": {
    "name": "ipython",
    "version": 3
   },
   "file_extension": ".py",
   "mimetype": "text/x-python",
   "name": "python",
   "nbconvert_exporter": "python",
   "pygments_lexer": "ipython3",
   "version": "3.5.3"
  }
 },
 "nbformat": 4,
 "nbformat_minor": 2
}
