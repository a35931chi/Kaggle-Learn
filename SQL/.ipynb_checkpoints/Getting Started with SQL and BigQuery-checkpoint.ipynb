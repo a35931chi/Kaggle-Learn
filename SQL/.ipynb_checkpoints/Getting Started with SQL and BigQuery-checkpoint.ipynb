{
 "cells": [
  {
   "cell_type": "markdown",
   "metadata": {},
   "source": [
    "reference: https://www.kaggle.com/dansbecker/getting-started-with-sql-and-bigquery"
   ]
  },
  {
   "cell_type": "markdown",
   "metadata": {},
   "source": [
    "### Introduction\n",
    "SQL (pronounced as \"see-quill\" or \"S-Q-L\" ) is the primary programming language used to interact with databases. It is an important skill for any data scientist or aspiring data scientist.\n",
    "\n",
    "BigQuery is a Google Cloud tool for working with very large databases. You can interact with data in BigQuery using SQL.\n",
    "\n",
    "This series of tutorials and hands-on exercises will teach all the components you need to become effective with SQL and BigQuery.\n",
    "\n",
    "Using BigQuery From Kaggle\n",
    "This section describes basics for using BigQuery in Kaggle notebooks this includes:\n",
    "\n",
    "- Getting your notebook set up\n",
    "- Checking the structure of the dataset (to help you when you want to write queries)\n",
    "- Checking the size of a query before you run it (to avoid accidentally asking for way more data than you wanted)\n",
    "- Running your first query\n",
    "\n",
    "Intricacies of SQL will come in subsequent steps.\n",
    "\n",
    "Set-Up\n",
    "The first step is to start a kernel using one of the BigQuery datasets as the data source. You can find these datasets by going to the Datasets page and selecting \"BigQuery\" from the \"File Types\" drop down menu. Or use this link: https://www.kaggle.com/datasets\n",
    "\n",
    "Select a BigQuery dataset from that list, go to the dataset page for it and start a new kernel on it by hitting the \"New Kernel\" button. Right now, you can only use BigQuery databases with Python kernels.\n",
    "\n",
    "In order to make your life easier, we'll use a Python package called bq_helper. It has helper functions for putting BigQuery results in Pandas DataFrames.\n",
    "\n",
    "You can use bq_helper in your kernel by importing it with the command"
   ]
  },
  {
   "cell_type": "code",
   "execution_count": null,
   "metadata": {},
   "outputs": [],
   "source": [
    "import bq_helper"
   ]
  },
  {
   "cell_type": "markdown",
   "metadata": {},
   "source": [
    "After adding a BigQuery package to our kernel and importing the helper package, create a BigQueryHelper object pointing to a specific dataset.\n",
    "\n",
    "Find what the dataset is called by checking out the dataset listing for your dataset and then navigating to the \"Data\" tab. For example, here's a link to the Data tab of the Hacker News dataset, which is what we'll use in this example.\n",
    "\n",
    "If you go to the link I provided, you'll notice a blue rectangle with rounded edges near the top of the page that has the following text in it: \"bigquery-public-data.hacker_news.comments\". This tells you that you're looking of a summary of the \"comments\" table in the \"hacker_news\" dataset. The addresses of BigQuery datasets look like this:\n",
    "\n",
    "BigQuery Table bigquery-public-data hacker_news comments\n",
    "- BigQuery info is always the same\n",
    "- hacker_news: Dataset\n",
    "- comments: Table\n",
    "\n",
    "We will need to pass this information to BigQueryHelper in order to create our helper object. The active_project argument takes the BigQuery info, which is currently \"bigquery-public-data\" for all the BigQuery datasets on Kaggle. The dataset_name argument takes the name of the dataset we've added to our query. In this case it's \"hacker_news\". So we can create our BigQueryHelper object like so:\n"
   ]
  },
  {
   "cell_type": "code",
   "execution_count": null,
   "metadata": {},
   "outputs": [],
   "source": [
    "# create a helper object for our bigquery dataset\n",
    "hacker_news = bq_helper.BigQueryHelper(active_project= \"bigquery-public-data\", \n",
    "                                       dataset_name = \"hacker_news\")"
   ]
  },
  {
   "cell_type": "markdown",
   "metadata": {},
   "source": [
    "### Check Out The Structure of Your Dataset\n",
    "\n",
    "We'll start by looking at the schema.\n",
    "\n",
    "    Schema: A description of how data is organized within a dataset.\n",
    "\n",
    "Viewing the schema will be very helpful later on as we start to put together queries. We can use the BigQueryHelper.list_tables() method to list all the files in the hacker_news dataset.\n",
    "\n",
    "BigQuery datasets can be very large, and there are some restrictions on how much data you can access.\n",
    "\n",
    "Each Kaggle user can scan 5TB every 30 days for free. If you go over your quota you're going to have to wait for it to reset.\n",
    "\n",
    "Don't worry, though: we'll teach you how to be careful when looking at BigQuery data to make sure you don't accidentally go over your quota.\n"
   ]
  },
  {
   "cell_type": "code",
   "execution_count": null,
   "metadata": {},
   "outputs": [],
   "source": [
    "# print a list of all the tables in the hacker_news dataset\n",
    "hacker_news.list_tables()"
   ]
  },
  {
   "cell_type": "markdown",
   "metadata": {},
   "source": [
    "Now that we know what tables are in this dataset, we can get information on the columns in a specific table. In this example, we're looking at the information on the \"full\" table."
   ]
  },
  {
   "cell_type": "code",
   "execution_count": null,
   "metadata": {},
   "outputs": [],
   "source": [
    "# print information on all the columns in the \"full\" table\n",
    "# in the hacker_news dataset\n",
    "hacker_news.table_schema(\"full\")"
   ]
  },
  {
   "cell_type": "markdown",
   "metadata": {},
   "source": [
    "Each SchemaField tells us about a specific column. In order, the information is:\n",
    "\n",
    "- The name of the column\n",
    "- The datatype in the column\n",
    "- The mode of the column (NULLABLE means that a column allows NULL values, and is the default)\n",
    "- A description of the data in that column\n",
    "\n",
    "So, for the first column, we have the following schema field:\n",
    "\n",
    "SchemaField('by', 'string', 'NULLABLE', \"The username of the item's author.\",())\n",
    "\n",
    "This tells us that the column is called \"by\", that is has strings in it but that NULL values are allowed, and that it contains the username of the item's author.\n",
    "\n",
    "We can use the BigQueryHelper.head() method to check just the first couple of lines of of the \"full\" table to make sure this is right. (Sometimes you'll run into databases out there where the schema isn't an accurate description of the data anymore, so it's good to check. This shouldn't be a problem with any of the BigQuery databases on Kaggle, though!)"
   ]
  },
  {
   "cell_type": "code",
   "execution_count": null,
   "metadata": {},
   "outputs": [],
   "source": [
    "# preview the first couple lines of the \"full\" table\n",
    "hacker_news.head(\"full\")"
   ]
  },
  {
   "cell_type": "markdown",
   "metadata": {},
   "source": [
    "The BigQueryHelper.head() method will also let us look at just the information in a specific column. If we want to see the first ten entries in the \"by\" column, for example, we can do that!"
   ]
  },
  {
   "cell_type": "code",
   "execution_count": null,
   "metadata": {},
   "outputs": [],
   "source": [
    "# preview the first ten entries in the by column of the full table\n",
    "hacker_news.head(\"full\", selected_columns=\"by\", num_rows=10)"
   ]
  },
  {
   "cell_type": "markdown",
   "metadata": {},
   "source": [
    "Now that we know how to familiarize ourself with our datset, let's see how to check how big our queries are before we actually run them."
   ]
  },
  {
   "cell_type": "markdown",
   "metadata": {},
   "source": [
    "### Check the size of your query before you run it\n",
    "\n",
    "Because the datasets on BigQuery can be very large, there are some restrictions on how much data you can access. Remember that you can scan 5TB every 30 days for free, and after that you'll need to wait until the end of that 30-day period.\n",
    "\n",
    "The biggest dataset currently on Kaggle is 3 terabytes, so you can easily go past your 30-day quota by running just a couple of queries!\n",
    "\n",
    "What's a query? A query is small piece of SQL code that specifies what data would you like to scan from a databases, and how much of that data you would like returned. (Note that your quota is on data scanned, not the amount of data returned.)\n",
    "\n",
    "One way to help avoid this is to estimate how big your query will be before you actually execute it. You can do this with the BigQueryHelper.estimate_query_size() method. For the rest of this notebook, I'll be using an example query that finding the scores for every Hacker News post of the type \"job\". Let's see how much data it will scan if we actually ran it."
   ]
  },
  {
   "cell_type": "code",
   "execution_count": null,
   "metadata": {},
   "outputs": [],
   "source": [
    "# this query looks in the full table in the hacker_news\n",
    "# dataset, then gets the score column from every row where \n",
    "# the type column has \"job\" in it.\n",
    "query = \"\"\"SELECT score\n",
    "            FROM `bigquery-public-data.hacker_news.full`\n",
    "            WHERE type = \"job\" \"\"\"\n",
    "\n",
    "# check how big this query will be\n",
    "hacker_news.estimate_query_size(query)"
   ]
  },
  {
   "cell_type": "markdown",
   "metadata": {},
   "source": [
    "### Run the Query\n",
    "\n",
    "Now that we know how to check the size of the query (and make sure we're not scanning several terabytes of data!) we're ready to run our first query. You have two methods available to help you do this:\n",
    "\n",
    "- BigQueryHelper.query_to_pandas(query): This method takes a query and returns a Pandas dataframe.\n",
    "- BigQueryHelper.query_to_pandas_safe(query, max_gb_scanned=1): This method takes a query and returns a Pandas dataframe only if the size of the query is less than the upperSizeLimit (1 gigabyte by default).\n",
    "\n",
    "Here's an example of a query that is larger than the specified upper limit."
   ]
  },
  {
   "cell_type": "code",
   "execution_count": null,
   "metadata": {},
   "outputs": [],
   "source": [
    "# only run this query if it's less than 100 MB\n",
    "hacker_news.query_to_pandas_safe(query, max_gb_scanned=0.1)"
   ]
  },
  {
   "cell_type": "markdown",
   "metadata": {},
   "source": [
    "And here's an example where the same query returns a dataframe."
   ]
  },
  {
   "cell_type": "code",
   "execution_count": null,
   "metadata": {},
   "outputs": [],
   "source": [
    "# average score for job posts\n",
    "job_post_scores.score.mean()"
   ]
  },
  {
   "cell_type": "markdown",
   "metadata": {},
   "source": [
    "### Avoiding Common Mistakes when Querying Big Datasets\n",
    "\n",
    "Big data is great! But working at a bigger scale makes your problems bigger too, like this professor whose experiment racked up an unexpected $1000 bill. Kaggle isn't charging for accessing BigQuery datasets, but these best practices can help you avoid trouble down the line.\n",
    "\n",
    "- Avoid using the asterisk (*) in your queries. The asterisk means “everything”. This may be okay with smaller datasets, but getting everything from a 4 terabyte dataset takes a long time and eats into your monthly usage limit.\n",
    "- For initial exploration, look at just part of the table instead of the whole thing. If you're just curious to see what data's in a table, preview it instead of scanning the whole table. The BigQueryHelper.head() method in our helper package does this. Like head() in Pandas or R, it returns just the first few rows for you to look at.\n",
    "- Double-check the size of complex queries. If you're planning on running what might be a large query, either estimate the size first or run it using the BigQueryHelper.query_to_pandas_safe() method.\n",
    "- Be cautious about joining tables. In particular, avoid joining a table with itself (i.e. a self-join) and try to avoid joins that return a table that's larger than the ones you're joining together. (You can double-check yourself by joining just the heads of the tables.)\n",
    "- Don't rely on LIMIT: One of the things that can be confusing when working with BigQuery datasets is the difference between the data you scan and the data you actually get back especially since it's the first one that actually counts against your quota. When you do something like select a column with LIMIT = 10, you'll only get 10 results back, but you'll scan the whole column (and that counts against your monthly usage limit)."
   ]
  }
 ],
 "metadata": {
  "kernelspec": {
   "display_name": "Python 3",
   "language": "python",
   "name": "python3"
  },
  "language_info": {
   "codemirror_mode": {
    "name": "ipython",
    "version": 3
   },
   "file_extension": ".py",
   "mimetype": "text/x-python",
   "name": "python",
   "nbconvert_exporter": "python",
   "pygments_lexer": "ipython3",
   "version": "3.5.3"
  }
 },
 "nbformat": 4,
 "nbformat_minor": 2
}
