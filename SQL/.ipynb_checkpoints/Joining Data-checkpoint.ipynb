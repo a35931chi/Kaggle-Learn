{
 "cells": [
  {
   "cell_type": "markdown",
   "metadata": {},
   "source": [
    "reference: https://www.kaggle.com/dansbecker/joining-data"
   ]
  },
  {
   "cell_type": "markdown",
   "metadata": {},
   "source": [
    "### JOIN\n",
    "\n",
    "Whew, we've come a long way from Day 1! By now, you have the tools to get many different configurations of information from a single table. But what if your database has more than one table and you want to look at information from multiple tables?\n",
    "\n",
    "That's where JOIN comes in! Today, we're going to learn about how to use JOIN to combine data from two tables. This will let us answer more types of questions. It's also one of the more complex parts of SQL. Don't worry, though, we're going to go through some examples together.\n",
    "\n",
    "#### JOIN\n",
    "\n",
    "Let's keep working with our imaginary Pets dataset, but this time let's add a second table. The first table, \"Pets\", has three columns, with information on the ID number of each pet, the pet's name and the type of animal it is. The new table, \"Owners\", has three columns, with the ID number of each owner, the name of the owner and the ID number of their pet.\n",
    "\n",
    "Each row in each table is associated with a single pet and we refer to the same pets in both tables. We can tell this because there are two columns (ID in the \"Pets\" table and Pet_ID in the \"Owners\" table) that have the same information in them: the ID number of the pet. We can match rows that have the same value in these columns to get information that applies to a certain pet.\n",
    "\n",
    "For example, we can see by looking at the Pets table that the pet that has the ID 1 is named Dr. Harris Bonkers. We can also tell by looking at the Owners table that the name of the owner who owns the pet with the ID 1 is named Aubrey Little. We can use this information to figure out that Dr. Harris Bonkers is owned by Aubrey Little.\n",
    "\n",
    "Fortunately, we don't have to do this by hand to figure out which owner's name goes with which pet name. We can use JOIN to do this for us! JOIN allows us to create a third, new, table that has information from both tables. For example, we might want to have a single table with just two columns: one with the name of the pet and one with the name of the owner. This would look something like this:\n",
    "\n",
    "The syntax to create that table looks like this:\n",
    "\n",
    "    SELECT p.Name AS Pet_Name, o.Name as Owner_Name\n",
    "    FROM `bigquery-public-data.pet_records.pets` as p\n",
    "    INNER JOIN `bigquery-public-data.pet_records.owners` as o ON p.ID = o.Pet_ID\n",
    "\n",
    "Notice that since the ID column exists in both datasets, we have to clarify which one we want to use. When you're joining tables, it's a good habit to specificy which table all of your columns come from. That way you don't have to pull up the schema every time you go back to read the query.\n",
    "\n",
    "The type of JOIN we're using today is called an INNER JOIN. That just means that a row will only be put in the final output table if the value in the column you're using to combine them shows up in both the tables you're joining. For example, if Tom's ID code of 4 didn't exist in the Pets table, we would only get 3 rows back from this query. There are other types of JOIN, but an INNER JOIN won't give you an output that's larger than your input tables, so it's a good one to start with.\n",
    "\n",
    "    What does \"ON\" do? It says which column in each table to look at to combine the tables. Here were using the \"ID\" column from the Pets table and the \"Pet_ID\" table from the Owners table.\n",
    "\n",
    "Now that we've talked about the concept behind using JOIN, let's work through an example together.\n",
    "\n",
    "#### Example: How many files are covered by each license?\n",
    "\n",
    "Today we're going to be using the GitHub Repos dataset. GitHub is an place for people to store & collaborate on different versions of their computer code. A \"repo\" is a collection of code associated with a specific project.\n",
    "\n",
    "Most public code on Github is shared under a specific license, which determines how it can be used and by who. For our example, we're going to look at how many different files have been released under each licenses.\n",
    "\n",
    "First, of course, we need to get our environment ready to go:"
   ]
  },
  {
   "cell_type": "code",
   "execution_count": null,
   "metadata": {},
   "outputs": [],
   "source": [
    "# import package with helper functions \n",
    "import bq_helper\n",
    "\n",
    "# create a helper object for this dataset\n",
    "github = bq_helper.BigQueryHelper(active_project=\"bigquery-public-data\",\n",
    "                                              dataset_name=\"github_repos\")"
   ]
  },
  {
   "cell_type": "markdown",
   "metadata": {},
   "source": [
    "Now we're ready to get started on our query. This one is going to be a bit of a beast, so stick with me! The only new syntax we'll see is around the JOIN clause, everything is something we've already learned. :)\n",
    "\n",
    "First, I'm going to specify which columns I'd like to be returned in the final table that's returned to me. Here, I'm selecting the COUNT of the \"path\" column from the sample_files table and then calling it \"number_of_files\". I'm also specifying that I was to include the \"license\" column, even though there's no \"license\" column in the \"sample_files\" table.\n",
    "\n",
    "    SELECT L.license, COUNT(sf.path) AS number_of_files\n",
    "    FROM `bigquery-public-data.github_repos.sample_files` as sf\n",
    "\n",
    "Speaking of the JOIN clause, we still haven't actually told SQL we want to join anything! To do this, we need to specify what type of join we want (in this case an inner join) and how which columns we want to JOIN ON. Here, I'm using ON to specify that I want to use the \"repo_name\" column from the each table.\n",
    "\n",
    "    INNER JOIN `bigquery-public-data.github_repos.licenses` as L \n",
    "            ON sf.repo_name = L.repo_name\n",
    "\n",
    "And, finally, we have a GROUP BY and ORDER BY clause that apply to the final table that's been returned to us. We've seen these a couple of times at this point. :)\n",
    "\n",
    "    GROUP BY license\n",
    "    ORDER BY number_of_files DESC\n",
    "\n",
    "Alright, that was a lot, but you should have an idea what each part of this query is doing. :) Without any further ado, let' put it into action.\n"
   ]
  },
  {
   "cell_type": "code",
   "execution_count": null,
   "metadata": {},
   "outputs": [],
   "source": [
    "# You can use two dashes (--) to add comments in SQL\n",
    "query = (\"\"\"\n",
    "        -- Select all the columns we want in our joined table\n",
    "        SELECT L.license, COUNT(sf.path) AS number_of_files\n",
    "        FROM `bigquery-public-data.github_repos.sample_files` as sf\n",
    "        -- Table to merge into sample_files\n",
    "        INNER JOIN `bigquery-public-data.github_repos.licenses` as L \n",
    "            ON sf.repo_name = L.repo_name -- what columns should we join on?\n",
    "        GROUP BY L.license\n",
    "        ORDER BY number_of_files DESC\n",
    "        \"\"\")\n",
    "\n",
    "file_count_by_license = github.query_to_pandas_safe(query, max_gb_scanned=6)"
   ]
  },
  {
   "cell_type": "markdown",
   "metadata": {},
   "source": [
    "Whew, that was a big query! But it gave us a nice tidy little table that nicely summarizes how many files have been committed under each license:\n"
   ]
  },
  {
   "cell_type": "code",
   "execution_count": null,
   "metadata": {},
   "outputs": [],
   "source": [
    "print(file_count_by_license)"
   ]
  },
  {
   "cell_type": "markdown",
   "metadata": {},
   "source": [
    "And that's how to get started using JOIN in BigQuery! There are many other kinds of joins (you can read about some here), so once you're very comfortable with INNER JOIN you can start exploring some of them."
   ]
  },
  {
   "cell_type": "code",
   "execution_count": null,
   "metadata": {},
   "outputs": [],
   "source": []
  }
 ],
 "metadata": {
  "kernelspec": {
   "display_name": "Python 3",
   "language": "python",
   "name": "python3"
  },
  "language_info": {
   "codemirror_mode": {
    "name": "ipython",
    "version": 3
   },
   "file_extension": ".py",
   "mimetype": "text/x-python",
   "name": "python",
   "nbconvert_exporter": "python",
   "pygments_lexer": "ipython3",
   "version": "3.5.3"
  }
 },
 "nbformat": 4,
 "nbformat_minor": 2
}
