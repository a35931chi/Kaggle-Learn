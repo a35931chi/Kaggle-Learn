{
 "cells": [
  {
   "cell_type": "markdown",
   "metadata": {},
   "source": [
    "reference: https://www.kaggle.com/dansbecker/exercise-group-by-having-count"
   ]
  },
  {
   "cell_type": "markdown",
   "metadata": {},
   "source": [
    "### Get Started\n",
    "\n",
    "After forking this notebook, run the code in the following cell:"
   ]
  },
  {
   "cell_type": "code",
   "execution_count": null,
   "metadata": {},
   "outputs": [],
   "source": [
    "# import package with helper functions \n",
    "import bq_helper\n",
    "\n",
    "# create a helper object for this dataset\n",
    "hacker_news = bq_helper.BigQueryHelper(active_project=\"bigquery-public-data\",\n",
    "                                   dataset_name=\"hacker_news\")\n",
    "\n",
    "# print the first couple rows of the \"comments\" table\n",
    "hacker_news.head(\"comments\")"
   ]
  },
  {
   "cell_type": "markdown",
   "metadata": {},
   "source": [
    "Question\n",
    "\n",
    "Using the Hacker News dataset in BigQuery, answer the following questions:\n",
    "\n",
    "1 How many stories (use the \"id\" column) are there of each type (in the \"type\" column) in the full table?\n"
   ]
  },
  {
   "cell_type": "code",
   "execution_count": null,
   "metadata": {},
   "outputs": [],
   "source": [
    "# not sure what the \"type\" means\n",
    "# Your Code Here\n",
    "query = \"\"\"SELECT id, COUNT(id)\n",
    "        from `bigquery-public-data.hacker_news.comments`\n",
    "        GROUP BY id\n",
    "        \"\"\"\n",
    "num_stories = hacker_news.query_to_pandas_safe(query)\n",
    "num_stories.head()"
   ]
  },
  {
   "cell_type": "markdown",
   "metadata": {},
   "source": [
    "2 How many comments have been deleted? (If a comment was deleted the \"deleted\" column in the comments table will have the value \"True\".)¶"
   ]
  },
  {
   "cell_type": "code",
   "execution_count": null,
   "metadata": {},
   "outputs": [],
   "source": [
    "# Your Code Here\n",
    "query = \"\"\"SELECT COUNT(id)\n",
    "        from `bigquery-public-data.hacker_news.comments`\n",
    "        WHERE deleted = 'True'\n",
    "        \"\"\"\n",
    "deleted_stories = hacker_news.query_to_pandas_safe(query)\n",
    "deleted_stories.head()"
   ]
  },
  {
   "cell_type": "markdown",
   "metadata": {},
   "source": [
    "3 Modify one of the queries you wrote above to use a different aggregate function.\n",
    "\n",
    "You can read about aggregate functions other than COUNT() in these docs\n"
   ]
  },
  {
   "cell_type": "code",
   "execution_count": null,
   "metadata": {},
   "outputs": [],
   "source": [
    "# Your Code Here\n",
    "# Your Code Here\n",
    "query = \"\"\"SELECT deleted, COUNT(id)\n",
    "        from `bigquery-public-data.hacker_news.comments`\n",
    "        GROUP BY deleted\n",
    "        \"\"\"\n",
    "deleted_stories = hacker_news.query_to_pandas_safe(query)\n",
    "deleted_stories.head()"
   ]
  }
 ],
 "metadata": {
  "kernelspec": {
   "display_name": "Python 3",
   "language": "python",
   "name": "python3"
  },
  "language_info": {
   "codemirror_mode": {
    "name": "ipython",
    "version": 3
   },
   "file_extension": ".py",
   "mimetype": "text/x-python",
   "name": "python",
   "nbconvert_exporter": "python",
   "pygments_lexer": "ipython3",
   "version": "3.5.3"
  }
 },
 "nbformat": 4,
 "nbformat_minor": 2
}
