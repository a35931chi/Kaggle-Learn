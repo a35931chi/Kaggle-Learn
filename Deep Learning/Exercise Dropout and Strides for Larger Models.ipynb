{
  "cells": [
    {
      "metadata": {
        "_cell_guid": "53e4cfb1-4316-46d1-a753-7d4045bb4da2",
        "_uuid": "083760abcfaab135111dbed019a0d630134f30a2"
      },
      "cell_type": "markdown",
      "source": "# Introduction\n\nYou've built a model to identify clothing types in the **MNIST for Fashion** dataset.  Now you will make your model bigger, specify larger stride lengths and apply dropout. These changes will make your model faster and more accurate.\n\nThis is the last step in the **[Deep Learning Track](https://www.kaggle.com/learn/deep-learning)**.\n\n# Starter Code\n\n## Data Preparation\n**You need to run this cell of code.**\n"
    },
    {
      "metadata": {
        "_cell_guid": "15657934-6637-42b8-9ae6-bce60a608db7",
        "_uuid": "d312dc79af7fc2c5adf211f90ce44d21bdbc5ddd",
        "trusted": true
      },
      "cell_type": "code",
      "source": "import numpy as np\nfrom sklearn.model_selection import train_test_split\nfrom tensorflow.python import keras\n\nimg_rows, img_cols = 28, 28\nnum_classes = 10\n\ndef prep_data(raw, train_size, val_size):\n    y = raw[:, 0]\n    out_y = keras.utils.to_categorical(y, num_classes)\n    \n    x = raw[:,1:]\n    num_images = raw.shape[0]\n    out_x = x.reshape(num_images, img_rows, img_cols, 1)\n    out_x = out_x / 255\n    return out_x, out_y\n\nfashion_file = \"../input/fashionmnist/fashion-mnist_train.csv\"\nfashion_data = np.loadtxt(fashion_file, skiprows=1, delimiter=',')\nx, y = prep_data(fashion_data, train_size=50000, val_size=5000)",
      "execution_count": 1,
      "outputs": [
        {
          "output_type": "stream",
          "text": "/opt/conda/lib/python3.6/site-packages/h5py/__init__.py:36: FutureWarning: Conversion of the second argument of issubdtype from `float` to `np.floating` is deprecated. In future, it will be treated as `np.float64 == np.dtype(float).type`.\n  from ._conv import register_converters as _register_converters\n",
          "name": "stderr"
        }
      ]
    },
    {
      "metadata": {
        "_cell_guid": "ccf0a6ed-6579-4c32-8898-1a41857249f9",
        "_uuid": "d485ab8f82c9308f1bdb06da4c8b7c8e0feaa965"
      },
      "cell_type": "markdown",
      "source": "## Sample Model Code\n\n```\nfashion_model = Sequential()\nfashion_model.add(Conv2D(12, kernel_size=(3, 3), strides=2,\n                 activation='relu',\n                 input_shape=(img_rows, img_cols, 1)))\nfashion_model.add(Conv2D(12, (3, 3), strides=2, activation='relu'))\nfashion_model.add(Flatten())\nfashion_model.add(Dense(128, activation='relu'))\nfashion_model.add(Dense(num_classes, activation='softmax'))\n\nfashion_model.compile(loss=keras.losses.categorical_crossentropy,\n              optimizer='adam',\n              metrics=['accuracy'])\n\nfashion_model.fit(train_x, train_y,\n          batch_size=batch_size,\n          epochs=epochs,\n          validation_split = 0.2)\n```"
    },
    {
      "metadata": {
        "_cell_guid": "97fdec45-36d0-45cd-8273-3765c477ef66",
        "_uuid": "8fff3f44f63059c6451d9b7a71cee61641d6622a"
      },
      "cell_type": "markdown",
      "source": "# Adding Strides\nSpecify, compile and fit a model much like the model above, but specify a stride length of 2 for each convolutional layer.  Call your new model `fashion_model_1`"
    },
    {
      "metadata": {
        "_cell_guid": "3d88fc9c-e4c1-4f97-b2b5-1f2c1bd079c6",
        "_uuid": "3fcdca52b62a612b5f9c70e649a5f2b7e3b27a5a",
        "trusted": true
      },
      "cell_type": "code",
      "source": "from tensorflow.python.keras.models import Sequential\nfrom tensorflow.python.keras.layers import Dense, Flatten, Conv2D, Dropout\n\nfashion_model_1 = Sequential()\n# Specify the rest of the model\nfashion_model_1.add(Conv2D(12, kernel_size = (3, 3), strides = 2, activation = 'relu', input_shape = (img_rows, img_cols, 1)))\nfashion_model_1.add(Conv2D(12, kernel_size = (3, 3), strides = 2, activation = 'relu'))\nfashion_model_1.add(Flatten())\nfashion_model_1.add(Dense(128, activation = 'relu'))\nfashion_model_1.add(Dense(num_classes, activation = 'softmax'))\n# Compile fashion_model_1\nfashion_model_1.compile(loss = keras.losses.categorical_crossentropy, optimizer = 'adam', metrics = ['accuracy'])\n# Fit fashion_model_1\nfashion_model_1.fit(x, y, epochs = 4, batch_size = 100, validation_split = 0.2)\n",
      "execution_count": 6,
      "outputs": [
        {
          "output_type": "stream",
          "text": "Train on 48000 samples, validate on 12000 samples\nEpoch 1/4\n48000/48000 [==============================] - 10s 210us/step - loss: 0.6135 - acc: 0.7858 - val_loss: 0.4499 - val_acc: 0.8397\nEpoch 2/4\n48000/48000 [==============================] - 9s 197us/step - loss: 0.4082 - acc: 0.8533 - val_loss: 0.3977 - val_acc: 0.8574\nEpoch 3/4\n48000/48000 [==============================] - 9s 192us/step - loss: 0.3612 - acc: 0.8705 - val_loss: 0.3569 - val_acc: 0.8737\nEpoch 4/4\n48000/48000 [==============================] - 9s 190us/step - loss: 0.3344 - acc: 0.8792 - val_loss: 0.3682 - val_acc: 0.8717\n",
          "name": "stdout"
        },
        {
          "output_type": "execute_result",
          "execution_count": 6,
          "data": {
            "text/plain": "<tensorflow.python.keras._impl.keras.callbacks.History at 0x7f1a56ed6dd8>"
          },
          "metadata": {}
        }
      ]
    },
    {
      "metadata": {
        "_cell_guid": "113a0bcb-c6d6-42c5-9a21-2fdfeb8c491e",
        "_uuid": "9772fb49d67ea47e9978462f07dd800268ed1019"
      },
      "cell_type": "markdown",
      "source": "# Make Model Larger\nYou should have noticed that `fashion_model_1` trained pretty quickly.  This makes it reasonable to make the model larger. Specify a new model called `fashion_model_2` that is identical to fashion_model_1, except:\n1. Add an additional `Conv2D` layer immediately before the Flatten layer. Make it similar to the Conv2D layers you already have, except don't set the stride length in this new layer (we have already shrunk the representation enough with the existing layers)..\n2. Change the number of filters in each convolutional layer to 24.\n\nAfter specifying `fashion_model_2`, compile and fit it"
    },
    {
      "metadata": {
        "_cell_guid": "d60995d6-84ac-48d4-85f6-bde29cd0670e",
        "_uuid": "fa193a82b50064a8d42d380e8a38e3ff302c9015",
        "trusted": true
      },
      "cell_type": "code",
      "source": "# Your code for fashion_model_2 below\nfashion_model_2 = Sequential()\n# Specify the rest of the model\nfashion_model_2.add(Conv2D(24, kernel_size = (3, 3), strides = 2, activation = 'relu', input_shape = (img_rows, img_cols, 1)))\nfashion_model_2.add(Conv2D(24, kernel_size = (3, 3), strides = 2, activation = 'relu'))\nfashion_model_2.add(Conv2D(24, kernel_size = (3, 3), activation = 'relu'))\nfashion_model_2.add(Flatten())\nfashion_model_2.add(Dense(128, activation = 'relu'))\nfashion_model_2.add(Dense(num_classes, activation = 'softmax'))\n# Compile fashion_model_1\nfashion_model_2.compile(loss = keras.losses.categorical_crossentropy, optimizer = 'adam', metrics = ['accuracy'])\n# Fit fashion_model_1\nfashion_model_2.fit(x, y, epochs = 4, batch_size = 100, validation_split = 0.2)",
      "execution_count": 7,
      "outputs": [
        {
          "output_type": "stream",
          "text": "Train on 48000 samples, validate on 12000 samples\nEpoch 1/4\n48000/48000 [==============================] - 15s 314us/step - loss: 0.6569 - acc: 0.7622 - val_loss: 0.5032 - val_acc: 0.8215\nEpoch 2/4\n48000/48000 [==============================] - 14s 288us/step - loss: 0.4241 - acc: 0.8463 - val_loss: 0.3860 - val_acc: 0.8634\nEpoch 3/4\n48000/48000 [==============================] - 14s 290us/step - loss: 0.3649 - acc: 0.8667 - val_loss: 0.3493 - val_acc: 0.8754\nEpoch 4/4\n48000/48000 [==============================] - 15s 306us/step - loss: 0.3274 - acc: 0.8798 - val_loss: 0.3448 - val_acc: 0.8742\n",
          "name": "stdout"
        },
        {
          "output_type": "execute_result",
          "execution_count": 7,
          "data": {
            "text/plain": "<tensorflow.python.keras._impl.keras.callbacks.History at 0x7f1a5873f940>"
          },
          "metadata": {}
        }
      ]
    },
    {
      "metadata": {
        "_cell_guid": "9749ddcb-3fb0-4333-b97e-3e922a9ebce8",
        "_uuid": "40f15d7a35442fc943068c96748697461b5e5770"
      },
      "cell_type": "markdown",
      "source": "# Add Dropout\nSpecify `fashion_model_3`, which is identical to `fashion_model_2` except that it adds dropout immediately after each convolutional layer (so it adds dropout 3 times). Compile and fit this model.  Compare the model's performance on validation data to the previous models.\n"
    },
    {
      "metadata": {
        "_uuid": "8525438bb18f2b59ef1551289950f7514d7b7034",
        "_cell_guid": "1f2059c2-0e2b-49a8-91ee-c917fabc8570",
        "trusted": true
      },
      "cell_type": "code",
      "source": "# Your code for fashion_model_3 below\nfashion_model_3 = Sequential()\n# Specify the rest of the model\nfashion_model_3.add(Conv2D(24, kernel_size = (3, 3), strides = 2, activation = 'relu', input_shape = (img_rows, img_cols, 1)))\nfashion_model_3.add(Dropout(0.2))\nfashion_model_3.add(Conv2D(24, kernel_size = (3, 3), strides = 2, activation = 'relu'))\nfashion_model_3.add(Dropout(0.2))\nfashion_model_3.add(Conv2D(24, kernel_size = (3, 3), activation = 'relu'))\nfashion_model_3.add(Dropout(0.2))\nfashion_model_3.add(Flatten())\nfashion_model_3.add(Dense(128, activation = 'relu'))\nfashion_model_3.add(Dense(num_classes, activation = 'softmax'))\n# Compile fashion_model_1\nfashion_model_3.compile(loss = keras.losses.categorical_crossentropy, optimizer = 'adam', metrics = ['accuracy'])\n# Fit fashion_model_1\nfashion_model_3.fit(x, y, epochs = 4, batch_size = 100, validation_split = 0.2)",
      "execution_count": 9,
      "outputs": [
        {
          "output_type": "stream",
          "text": "Train on 48000 samples, validate on 12000 samples\nEpoch 1/4\n48000/48000 [==============================] - 19s 393us/step - loss: 0.7338 - acc: 0.7275 - val_loss: 0.5042 - val_acc: 0.8110\nEpoch 2/4\n48000/48000 [==============================] - 19s 395us/step - loss: 0.4873 - acc: 0.8194 - val_loss: 0.4135 - val_acc: 0.8497\nEpoch 3/4\n48000/48000 [==============================] - 21s 435us/step - loss: 0.4359 - acc: 0.8401 - val_loss: 0.3760 - val_acc: 0.8675\nEpoch 4/4\n48000/48000 [==============================] - 19s 398us/step - loss: 0.4042 - acc: 0.8490 - val_loss: 0.3659 - val_acc: 0.8700\n",
          "name": "stdout"
        },
        {
          "output_type": "execute_result",
          "execution_count": 9,
          "data": {
            "text/plain": "<tensorflow.python.keras._impl.keras.callbacks.History at 0x7f1a57d3d080>"
          },
          "metadata": {}
        }
      ]
    },
    {
      "metadata": {
        "_cell_guid": "1299a51f-ecae-4649-9f14-66ebbcf8ee5d",
        "_uuid": "b48a69822e390a07060539f3394b2173150245c8"
      },
      "cell_type": "markdown",
      "source": "# Congrats\nYou've finished level 1 of the deep learning track.  You have the tools to create and tune computer vision models.  Pick a project and try out your skills.  \n\nA few fun datasets you might try include:\n- [Written letter recognition](https://www.kaggle.com/olgabelitskaya/classification-of-handwritten-letters)\n- [Flower Identification](https://www.kaggle.com/alxmamaev/flowers-recognition)\n- [Cats vs Dogs](https://www.kaggle.com/c/dogs-vs-cats-redux-kernels-edition)\n- [10 Monkeys](https://www.kaggle.com/slothkong/10-monkey-species)\n- [Predict Bone Age from X-Rays](https://www.kaggle.com/kmader/rsna-bone-age)\n\nYou have learned a lot. There is still a lot more to learn in deep learning, but you should feel great about your new skills.\n"
    },
    {
      "metadata": {
        "trusted": true,
        "collapsed": true,
        "_uuid": "d3a5724aa308a0e54e07403e7700008bb5628882"
      },
      "cell_type": "code",
      "source": "",
      "execution_count": null,
      "outputs": []
    }
  ],
  "metadata": {
    "language_info": {
      "name": "python",
      "version": "3.6.4",
      "mimetype": "text/x-python",
      "codemirror_mode": {
        "name": "ipython",
        "version": 3
      },
      "pygments_lexer": "ipython3",
      "nbconvert_exporter": "python",
      "file_extension": ".py"
    },
    "kernelspec": {
      "display_name": "Python 3",
      "language": "python",
      "name": "python3"
    }
  },
  "nbformat": 4,
  "nbformat_minor": 1
}